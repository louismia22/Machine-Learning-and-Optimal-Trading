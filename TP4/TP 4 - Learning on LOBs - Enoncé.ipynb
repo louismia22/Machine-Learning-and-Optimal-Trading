{
 "cells": [
  {
   "cell_type": "markdown",
   "metadata": {},
   "source": [
    "# TP 4 - Learning on LOBs"
   ]
  },
  {
   "cell_type": "markdown",
   "metadata": {},
   "source": [
    "## 1. Pouvoir prédictif de l'imbalance sur les mouvements de prix futurs"
   ]
  },
  {
   "cell_type": "markdown",
   "metadata": {},
   "source": [
    "Choisissez un des 10 actifs et utilisez l'intégralité de la base de données (l'année 2011)."
   ]
  },
  {
   "cell_type": "markdown",
   "metadata": {},
   "source": [
    "Calculez l'imbalance signée sur votre base de donnée."
   ]
  },
  {
   "cell_type": "markdown",
   "metadata": {},
   "source": [
    "$$\\mbox{Imb} = \\frac{Q_{ask}-Q_{bid}}{Q_{ask}+Q_{bid}}$$"
   ]
  },
  {
   "cell_type": "markdown",
   "metadata": {},
   "source": [
    "Calculer pour divers horizons $h$ (entre 1 et 10 par exemple) la différence entre le prix courant et le prix futur à horizon $h$ en point de base (bps)."
   ]
  },
  {
   "cell_type": "markdown",
   "metadata": {},
   "source": [
    "$$\\mbox{diff}(h)=100\\times100\\times\\frac{P_{t+h}-P_t}{P_t}$$"
   ]
  },
  {
   "cell_type": "markdown",
   "metadata": {},
   "source": [
    "En déduire le pouvoir prédictif de l'imbalance sur $\\mbox{diff}(h)$ en fonction des différentes valeurs de $h$ (régression). Vous pourrez arrondir l'imbalance à $10^{-1}$ et regrouper (`groupby`) les mouvements de prix pour un horizon $h$ donné en fonction de la valeur de l'imbalance. \n",
    "\n",
    "Etudier la relation pour les différents horizons $h$ considérés. Commenter vos résultats."
   ]
  },
  {
   "cell_type": "code",
   "execution_count": null,
   "metadata": {},
   "outputs": [],
   "source": []
  },
  {
   "cell_type": "markdown",
   "metadata": {},
   "source": [
    "## 2. Améliorer le résultats précédent à l'aide de réseaux de neurones et de mémoire sur les signes des transactions"
   ]
  },
  {
   "cell_type": "markdown",
   "metadata": {},
   "source": [
    "Ajouter comme variables :\n",
    "* le signe des 10 dernières transactions (`TradedSign`), \n",
    "* le volume des transactions renormalisé par l'ATS (Average Trading Size), \n",
    "* les volumes aux bests bid et ask."
   ]
  },
  {
   "cell_type": "markdown",
   "metadata": {},
   "source": [
    "On va chercher à prédire à partir de ses signes des 10 dernières transactions, des volumes aux best bid et best ask, du volume de la transaction renormalisé et de l'imbalance, l'accroissement futur ($\\mbox{diff}(h)$) du prix à l'aide d'un MLP (MutliLayer Perceptron) en utilisant `tensorflow`."
   ]
  },
  {
   "cell_type": "markdown",
   "metadata": {},
   "source": [
    "### a. Installer TensorFlow"
   ]
  },
  {
   "cell_type": "markdown",
   "metadata": {},
   "source": [
    "### b. Créer un jeu d'entraîement et un jeu de test pour le modèle"
   ]
  },
  {
   "cell_type": "markdown",
   "metadata": {},
   "source": [
    "Centrer et standardiser les variables et créer votre jeu d'entraînement et votre jeu de test."
   ]
  },
  {
   "cell_type": "code",
   "execution_count": null,
   "metadata": {},
   "outputs": [],
   "source": []
  },
  {
   "cell_type": "markdown",
   "metadata": {},
   "source": [
    "### c. Construire le réseaux de neurones"
   ]
  },
  {
   "cell_type": "markdown",
   "metadata": {},
   "source": [
    "Construire le réseau de neurones. Vous pourrez commencer avec un basique (une couche d'entrée et une de sortie) pour voir les résultats, puis ajouter au fur et à mesure des couches cachées pour améliorer les résultats.\n",
    "\n",
    "Vous pouvez utiliser l'API séquentielle de Keras : le modèle est défini avec la commande `keras.models.Sequential()` et les couches denses avec `keras.layers.Dense()`."
   ]
  },
  {
   "cell_type": "code",
   "execution_count": null,
   "metadata": {},
   "outputs": [],
   "source": []
  },
  {
   "cell_type": "markdown",
   "metadata": {},
   "source": [
    "Compiler le modèle. Vous pouvez utiliser l'optimiseur `SGD` et l'erreur quadratique moyenne comme fonction de perte."
   ]
  },
  {
   "cell_type": "code",
   "execution_count": null,
   "metadata": {},
   "outputs": [],
   "source": []
  },
  {
   "cell_type": "markdown",
   "metadata": {},
   "source": [
    "### d. Entraîner votre modèle sur le jeu d'entraînement"
   ]
  },
  {
   "cell_type": "code",
   "execution_count": null,
   "metadata": {},
   "outputs": [],
   "source": []
  },
  {
   "cell_type": "markdown",
   "metadata": {},
   "source": [
    "### e. Evaluer votre modèle sur le jeu d'entraînement"
   ]
  },
  {
   "cell_type": "code",
   "execution_count": null,
   "metadata": {},
   "outputs": [],
   "source": []
  },
  {
   "cell_type": "markdown",
   "metadata": {},
   "source": [
    "### f. Evaluer votre modèle sur le jeu de test"
   ]
  },
  {
   "cell_type": "code",
   "execution_count": null,
   "metadata": {},
   "outputs": [],
   "source": []
  },
  {
   "cell_type": "markdown",
   "metadata": {},
   "source": [
    "### g. Analyser de vos résultats"
   ]
  },
  {
   "cell_type": "markdown",
   "metadata": {},
   "source": [
    "Regarder vos résultats pour différents horizons $h$ sur la prévisions de $\\mbox{diff}(h)$ et les comparer avec les résultats de la section 1. en utilisant l'imbalance. Commenter.\n",
    "\n",
    "Comment pourriez-vous améliorer ce résultat ?"
   ]
  }
 ],
 "metadata": {
  "kernelspec": {
   "display_name": "Python 3 (ipykernel)",
   "language": "python",
   "name": "python3"
  },
  "language_info": {
   "codemirror_mode": {
    "name": "ipython",
    "version": 3
   },
   "file_extension": ".py",
   "mimetype": "text/x-python",
   "name": "python",
   "nbconvert_exporter": "python",
   "pygments_lexer": "ipython3",
   "version": "3.11.5"
  }
 },
 "nbformat": 4,
 "nbformat_minor": 4
}
