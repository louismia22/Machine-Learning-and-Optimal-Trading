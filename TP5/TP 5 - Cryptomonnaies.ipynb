{
 "cells": [
  {
   "cell_type": "markdown",
   "metadata": {},
   "source": [
    "# TP 3 - Probabilité d'exécution sur les marchés cryptos centralisés"
   ]
  },
  {
   "cell_type": "markdown",
   "metadata": {},
   "source": [
    "Vous utiliserez une semaine de données L1 (prix/volume aux premières limites et transactions) sur les marchés centralisés (CEXs) Bitstamp, Kraken et Binance US et les paires BTC-USD et ETH-USD.\n",
    "\n",
    "Installer `pyarrow` puis charger les données dans un `DataFrame` `pandas` en utilisant l'exemple suivant."
   ]
  },
  {
   "cell_type": "markdown",
   "metadata": {},
   "source": [
    "Conversion des timestamps des index au format `datetime` de `pandas`."
   ]
  },
  {
   "cell_type": "code",
   "execution_count": 137,
   "metadata": {},
   "outputs": [],
   "source": [
    "import numpy as np\n",
    "from datetime import datetime\n",
    "import pandas as pd\n",
    "\n",
    "exchanges = ['binanceus', 'bitstamp', 'kraken']\n",
    "coins = ['btcusd', 'ethusd']\n",
    "\n",
    "dict_l1 = {}\n",
    "dict_trades = {}\n",
    "\n",
    "for exchange in exchanges:\n",
    "    for coin in coins:\n",
    "\n",
    "        df_l1 = pd.read_parquet(\n",
    "            f\"l1_{coin}_{exchange}.parquet\",\n",
    "            engine=\"pyarrow\"\n",
    "        )\n",
    "\n",
    "        df_trades = pd.read_parquet(\n",
    "            f\"trades_{coin}_{exchange}.parquet\",\n",
    "            engine=\"pyarrow\"\n",
    "        )\n",
    "        df_l1['imbalance'] = (df_l1['best_bid_qty'] - df_l1['best_ask_qty'])/(df_l1['best_bid_qty'] + df_l1['best_ask_qty'])\n",
    "        df_l1['log_imbalance'] = np.log(df_l1['best_bid_qty']/df_l1['best_ask_qty'])\n",
    "        df_l1['date'] = [datetime.fromtimestamp(t) for t in df_l1.index]\n",
    "        df_trades['date'] = [datetime.fromtimestamp(t) for t in df_trades.index]\n",
    "        dict_l1[f'{coin}_{exchange}'] = df_l1\n",
    "        dict_trades[f'{coin}_{exchange}'] = df_trades\n"
   ]
  },
  {
   "cell_type": "markdown",
   "metadata": {},
   "source": [
    "Dans les données L1, vous avez 4 colonnes avec les prix des bests bid et ask ainsi que les quantités disponibles."
   ]
  },
  {
   "cell_type": "code",
   "execution_count": 138,
   "metadata": {},
   "outputs": [
    {
     "data": {
      "text/html": [
       "<div>\n",
       "<style scoped>\n",
       "    .dataframe tbody tr th:only-of-type {\n",
       "        vertical-align: middle;\n",
       "    }\n",
       "\n",
       "    .dataframe tbody tr th {\n",
       "        vertical-align: top;\n",
       "    }\n",
       "\n",
       "    .dataframe thead th {\n",
       "        text-align: right;\n",
       "    }\n",
       "</style>\n",
       "<table border=\"1\" class=\"dataframe\">\n",
       "  <thead>\n",
       "    <tr style=\"text-align: right;\">\n",
       "      <th></th>\n",
       "      <th>best_bid_price</th>\n",
       "      <th>best_ask_price</th>\n",
       "      <th>best_bid_qty</th>\n",
       "      <th>best_ask_qty</th>\n",
       "      <th>imbalance</th>\n",
       "      <th>log_imbalance</th>\n",
       "      <th>date</th>\n",
       "    </tr>\n",
       "  </thead>\n",
       "  <tbody>\n",
       "    <tr>\n",
       "      <th>1.675210e+09</th>\n",
       "      <td>23127.29</td>\n",
       "      <td>23129.59</td>\n",
       "      <td>0.009625</td>\n",
       "      <td>0.059662</td>\n",
       "      <td>-0.72217</td>\n",
       "      <td>-1.824331</td>\n",
       "      <td>2023-02-01 01:00:00.014691</td>\n",
       "    </tr>\n",
       "    <tr>\n",
       "      <th>1.675210e+09</th>\n",
       "      <td>23127.29</td>\n",
       "      <td>23129.59</td>\n",
       "      <td>0.009625</td>\n",
       "      <td>0.059662</td>\n",
       "      <td>-0.72217</td>\n",
       "      <td>-1.824331</td>\n",
       "      <td>2023-02-01 01:00:00.014967</td>\n",
       "    </tr>\n",
       "    <tr>\n",
       "      <th>1.675210e+09</th>\n",
       "      <td>23127.29</td>\n",
       "      <td>23129.59</td>\n",
       "      <td>0.009625</td>\n",
       "      <td>0.059662</td>\n",
       "      <td>-0.72217</td>\n",
       "      <td>-1.824331</td>\n",
       "      <td>2023-02-01 01:00:00.014969</td>\n",
       "    </tr>\n",
       "    <tr>\n",
       "      <th>1.675210e+09</th>\n",
       "      <td>23127.29</td>\n",
       "      <td>23129.59</td>\n",
       "      <td>0.009625</td>\n",
       "      <td>0.059662</td>\n",
       "      <td>-0.72217</td>\n",
       "      <td>-1.824331</td>\n",
       "      <td>2023-02-01 01:00:00.014970</td>\n",
       "    </tr>\n",
       "    <tr>\n",
       "      <th>1.675210e+09</th>\n",
       "      <td>23127.29</td>\n",
       "      <td>23129.59</td>\n",
       "      <td>0.009625</td>\n",
       "      <td>0.059662</td>\n",
       "      <td>-0.72217</td>\n",
       "      <td>-1.824331</td>\n",
       "      <td>2023-02-01 01:00:00.014971</td>\n",
       "    </tr>\n",
       "  </tbody>\n",
       "</table>\n",
       "</div>"
      ],
      "text/plain": [
       "              best_bid_price  best_ask_price  best_bid_qty  best_ask_qty  \\\n",
       "1.675210e+09        23127.29        23129.59      0.009625      0.059662   \n",
       "1.675210e+09        23127.29        23129.59      0.009625      0.059662   \n",
       "1.675210e+09        23127.29        23129.59      0.009625      0.059662   \n",
       "1.675210e+09        23127.29        23129.59      0.009625      0.059662   \n",
       "1.675210e+09        23127.29        23129.59      0.009625      0.059662   \n",
       "\n",
       "              imbalance  log_imbalance                       date  \n",
       "1.675210e+09   -0.72217      -1.824331 2023-02-01 01:00:00.014691  \n",
       "1.675210e+09   -0.72217      -1.824331 2023-02-01 01:00:00.014967  \n",
       "1.675210e+09   -0.72217      -1.824331 2023-02-01 01:00:00.014969  \n",
       "1.675210e+09   -0.72217      -1.824331 2023-02-01 01:00:00.014970  \n",
       "1.675210e+09   -0.72217      -1.824331 2023-02-01 01:00:00.014971  "
      ]
     },
     "execution_count": 138,
     "metadata": {},
     "output_type": "execute_result"
    }
   ],
   "source": [
    "dict_l1['btcusd_binanceus'].head()"
   ]
  },
  {
   "cell_type": "markdown",
   "metadata": {},
   "source": [
    "Dans les données des transactions, vous disposez des prix, des quantités et du côté (Bid/Ask) des transactions."
   ]
  },
  {
   "cell_type": "code",
   "execution_count": 133,
   "metadata": {},
   "outputs": [
    {
     "data": {
      "text/html": [
       "<div>\n",
       "<style scoped>\n",
       "    .dataframe tbody tr th:only-of-type {\n",
       "        vertical-align: middle;\n",
       "    }\n",
       "\n",
       "    .dataframe tbody tr th {\n",
       "        vertical-align: top;\n",
       "    }\n",
       "\n",
       "    .dataframe thead th {\n",
       "        text-align: right;\n",
       "    }\n",
       "</style>\n",
       "<table border=\"1\" class=\"dataframe\">\n",
       "  <thead>\n",
       "    <tr style=\"text-align: right;\">\n",
       "      <th></th>\n",
       "      <th>price</th>\n",
       "      <th>size</th>\n",
       "      <th>maker_side</th>\n",
       "    </tr>\n",
       "  </thead>\n",
       "  <tbody>\n",
       "    <tr>\n",
       "      <th>1.675210e+09</th>\n",
       "      <td>23127.29</td>\n",
       "      <td>0.009625</td>\n",
       "      <td>B</td>\n",
       "    </tr>\n",
       "    <tr>\n",
       "      <th>1.675210e+09</th>\n",
       "      <td>23127.11</td>\n",
       "      <td>0.043339</td>\n",
       "      <td>B</td>\n",
       "    </tr>\n",
       "    <tr>\n",
       "      <th>1.675210e+09</th>\n",
       "      <td>23127.08</td>\n",
       "      <td>0.011344</td>\n",
       "      <td>B</td>\n",
       "    </tr>\n",
       "    <tr>\n",
       "      <th>1.675210e+09</th>\n",
       "      <td>23127.07</td>\n",
       "      <td>0.011216</td>\n",
       "      <td>B</td>\n",
       "    </tr>\n",
       "    <tr>\n",
       "      <th>1.675210e+09</th>\n",
       "      <td>23127.05</td>\n",
       "      <td>0.011244</td>\n",
       "      <td>B</td>\n",
       "    </tr>\n",
       "  </tbody>\n",
       "</table>\n",
       "</div>"
      ],
      "text/plain": [
       "                 price      size maker_side\n",
       "1.675210e+09  23127.29  0.009625          B\n",
       "1.675210e+09  23127.11  0.043339          B\n",
       "1.675210e+09  23127.08  0.011344          B\n",
       "1.675210e+09  23127.07  0.011216          B\n",
       "1.675210e+09  23127.05  0.011244          B"
      ]
     },
     "execution_count": 133,
     "metadata": {},
     "output_type": "execute_result"
    }
   ],
   "source": [
    "dict_trades['btcusd_binanceus'].head()"
   ]
  },
  {
   "cell_type": "markdown",
   "metadata": {},
   "source": [
    "## 1. Microstructure du processus de rendements"
   ]
  },
  {
   "cell_type": "markdown",
   "metadata": {},
   "source": [
    "##### Pour les horizons 1 seconde et 1 minute:"
   ]
  },
  {
   "cell_type": "markdown",
   "metadata": {},
   "source": [
    "Calculer les séries de rendement du mid price pour les différentes paires (à horizon $h$ égal à 1 minute et 1 seconde) et faire un histogramme de la distribution pour chaque horizon $h$. Pour chaque $h$, calculer le kurtosis et le skewness, puis calculer la fonction de survie du rendement absolu $S$ définie par"
   ]
  },
  {
   "cell_type": "markdown",
   "metadata": {},
   "source": [
    "$$S(r):=\\mathbb{P}(|R|>r).$$"
   ]
  },
  {
   "cell_type": "code",
   "execution_count": 139,
   "metadata": {},
   "outputs": [
    {
     "ename": "TypeError",
     "evalue": "Only valid with DatetimeIndex, TimedeltaIndex or PeriodIndex, but got an instance of 'Float64Index'",
     "output_type": "error",
     "traceback": [
      "\u001b[0;31m---------------------------------------------------------------------------\u001b[0m",
      "\u001b[0;31mTypeError\u001b[0m                                 Traceback (most recent call last)",
      "Cell \u001b[0;32mIn [139], line 5\u001b[0m\n\u001b[1;32m      2\u001b[0m df_trades \u001b[38;5;241m=\u001b[39m dict_trades[\u001b[38;5;124m'\u001b[39m\u001b[38;5;124mbtcusd_binanceus\u001b[39m\u001b[38;5;124m'\u001b[39m]\n\u001b[1;32m      4\u001b[0m df_l1[\u001b[38;5;124m'\u001b[39m\u001b[38;5;124mmid_price\u001b[39m\u001b[38;5;124m'\u001b[39m] \u001b[38;5;241m=\u001b[39m (df_l1\u001b[38;5;241m.\u001b[39mbest_bid_price \u001b[38;5;241m+\u001b[39m df_l1\u001b[38;5;241m.\u001b[39mbest_bid_price) \u001b[38;5;241m/\u001b[39m \u001b[38;5;241m2\u001b[39m\n\u001b[0;32m----> 5\u001b[0m return_1s \u001b[38;5;241m=\u001b[39m (\u001b[43mdf_l1\u001b[49m\u001b[38;5;241;43m.\u001b[39;49m\u001b[43mmid_price\u001b[49m\u001b[38;5;241;43m.\u001b[39;49m\u001b[43mresample\u001b[49m\u001b[43m(\u001b[49m\u001b[38;5;124;43m\"\u001b[39;49m\u001b[38;5;124;43m1S\u001b[39;49m\u001b[38;5;124;43m\"\u001b[39;49m\u001b[43m)\u001b[49m\u001b[38;5;241m.\u001b[39mlast()\u001b[38;5;241m.\u001b[39mvalues \u001b[38;5;241m-\u001b[39m df_l1\u001b[38;5;241m.\u001b[39mmid_price\u001b[38;5;241m.\u001b[39mresample(\u001b[38;5;124m\"\u001b[39m\u001b[38;5;124m1S\u001b[39m\u001b[38;5;124m\"\u001b[39m)\u001b[38;5;241m.\u001b[39mfirst()\u001b[38;5;241m.\u001b[39mvalues) \u001b[38;5;241m/\u001b[39m df_l1\u001b[38;5;241m.\u001b[39mmid_price\u001b[38;5;241m.\u001b[39mresample(\u001b[38;5;124m\"\u001b[39m\u001b[38;5;124m1S\u001b[39m\u001b[38;5;124m\"\u001b[39m)\u001b[38;5;241m.\u001b[39mfirst()\u001b[38;5;241m.\u001b[39mvalues\n",
      "File \u001b[0;32m/Library/Frameworks/Python.framework/Versions/3.10/lib/python3.10/site-packages/pandas/core/series.py:5872\u001b[0m, in \u001b[0;36mSeries.resample\u001b[0;34m(self, rule, axis, closed, label, convention, kind, loffset, base, on, level, origin, offset, group_keys)\u001b[0m\n\u001b[1;32m   5855\u001b[0m \u001b[38;5;129m@doc\u001b[39m(NDFrame\u001b[38;5;241m.\u001b[39mresample, \u001b[38;5;241m*\u001b[39m\u001b[38;5;241m*\u001b[39m_shared_doc_kwargs)  \u001b[38;5;66;03m# type: ignore[has-type]\u001b[39;00m\n\u001b[1;32m   5856\u001b[0m \u001b[38;5;28;01mdef\u001b[39;00m \u001b[38;5;21mresample\u001b[39m(\n\u001b[1;32m   5857\u001b[0m     \u001b[38;5;28mself\u001b[39m,\n\u001b[0;32m   (...)\u001b[0m\n\u001b[1;32m   5870\u001b[0m     group_keys: \u001b[38;5;28mbool\u001b[39m \u001b[38;5;241m|\u001b[39m lib\u001b[38;5;241m.\u001b[39mNoDefault \u001b[38;5;241m=\u001b[39m no_default,\n\u001b[1;32m   5871\u001b[0m ) \u001b[38;5;241m-\u001b[39m\u001b[38;5;241m>\u001b[39m Resampler:\n\u001b[0;32m-> 5872\u001b[0m     \u001b[38;5;28;01mreturn\u001b[39;00m \u001b[38;5;28;43msuper\u001b[39;49m\u001b[43m(\u001b[49m\u001b[43m)\u001b[49m\u001b[38;5;241;43m.\u001b[39;49m\u001b[43mresample\u001b[49m\u001b[43m(\u001b[49m\n\u001b[1;32m   5873\u001b[0m \u001b[43m        \u001b[49m\u001b[43mrule\u001b[49m\u001b[38;5;241;43m=\u001b[39;49m\u001b[43mrule\u001b[49m\u001b[43m,\u001b[49m\n\u001b[1;32m   5874\u001b[0m \u001b[43m        \u001b[49m\u001b[43maxis\u001b[49m\u001b[38;5;241;43m=\u001b[39;49m\u001b[43maxis\u001b[49m\u001b[43m,\u001b[49m\n\u001b[1;32m   5875\u001b[0m \u001b[43m        \u001b[49m\u001b[43mclosed\u001b[49m\u001b[38;5;241;43m=\u001b[39;49m\u001b[43mclosed\u001b[49m\u001b[43m,\u001b[49m\n\u001b[1;32m   5876\u001b[0m \u001b[43m        \u001b[49m\u001b[43mlabel\u001b[49m\u001b[38;5;241;43m=\u001b[39;49m\u001b[43mlabel\u001b[49m\u001b[43m,\u001b[49m\n\u001b[1;32m   5877\u001b[0m \u001b[43m        \u001b[49m\u001b[43mconvention\u001b[49m\u001b[38;5;241;43m=\u001b[39;49m\u001b[43mconvention\u001b[49m\u001b[43m,\u001b[49m\n\u001b[1;32m   5878\u001b[0m \u001b[43m        \u001b[49m\u001b[43mkind\u001b[49m\u001b[38;5;241;43m=\u001b[39;49m\u001b[43mkind\u001b[49m\u001b[43m,\u001b[49m\n\u001b[1;32m   5879\u001b[0m \u001b[43m        \u001b[49m\u001b[43mloffset\u001b[49m\u001b[38;5;241;43m=\u001b[39;49m\u001b[43mloffset\u001b[49m\u001b[43m,\u001b[49m\n\u001b[1;32m   5880\u001b[0m \u001b[43m        \u001b[49m\u001b[43mbase\u001b[49m\u001b[38;5;241;43m=\u001b[39;49m\u001b[43mbase\u001b[49m\u001b[43m,\u001b[49m\n\u001b[1;32m   5881\u001b[0m \u001b[43m        \u001b[49m\u001b[43mon\u001b[49m\u001b[38;5;241;43m=\u001b[39;49m\u001b[43mon\u001b[49m\u001b[43m,\u001b[49m\n\u001b[1;32m   5882\u001b[0m \u001b[43m        \u001b[49m\u001b[43mlevel\u001b[49m\u001b[38;5;241;43m=\u001b[39;49m\u001b[43mlevel\u001b[49m\u001b[43m,\u001b[49m\n\u001b[1;32m   5883\u001b[0m \u001b[43m        \u001b[49m\u001b[43morigin\u001b[49m\u001b[38;5;241;43m=\u001b[39;49m\u001b[43morigin\u001b[49m\u001b[43m,\u001b[49m\n\u001b[1;32m   5884\u001b[0m \u001b[43m        \u001b[49m\u001b[43moffset\u001b[49m\u001b[38;5;241;43m=\u001b[39;49m\u001b[43moffset\u001b[49m\u001b[43m,\u001b[49m\n\u001b[1;32m   5885\u001b[0m \u001b[43m        \u001b[49m\u001b[43mgroup_keys\u001b[49m\u001b[38;5;241;43m=\u001b[39;49m\u001b[43mgroup_keys\u001b[49m\u001b[43m,\u001b[49m\n\u001b[1;32m   5886\u001b[0m \u001b[43m    \u001b[49m\u001b[43m)\u001b[49m\n",
      "File \u001b[0;32m/Library/Frameworks/Python.framework/Versions/3.10/lib/python3.10/site-packages/pandas/core/generic.py:8858\u001b[0m, in \u001b[0;36mNDFrame.resample\u001b[0;34m(self, rule, axis, closed, label, convention, kind, loffset, base, on, level, origin, offset, group_keys)\u001b[0m\n\u001b[1;32m   8855\u001b[0m \u001b[38;5;28;01mfrom\u001b[39;00m \u001b[38;5;21;01mpandas\u001b[39;00m\u001b[38;5;21;01m.\u001b[39;00m\u001b[38;5;21;01mcore\u001b[39;00m\u001b[38;5;21;01m.\u001b[39;00m\u001b[38;5;21;01mresample\u001b[39;00m \u001b[38;5;28;01mimport\u001b[39;00m get_resampler\n\u001b[1;32m   8857\u001b[0m axis \u001b[38;5;241m=\u001b[39m \u001b[38;5;28mself\u001b[39m\u001b[38;5;241m.\u001b[39m_get_axis_number(axis)\n\u001b[0;32m-> 8858\u001b[0m \u001b[38;5;28;01mreturn\u001b[39;00m \u001b[43mget_resampler\u001b[49m\u001b[43m(\u001b[49m\n\u001b[1;32m   8859\u001b[0m \u001b[43m    \u001b[49m\u001b[38;5;28;43mself\u001b[39;49m\u001b[43m,\u001b[49m\n\u001b[1;32m   8860\u001b[0m \u001b[43m    \u001b[49m\u001b[43mfreq\u001b[49m\u001b[38;5;241;43m=\u001b[39;49m\u001b[43mrule\u001b[49m\u001b[43m,\u001b[49m\n\u001b[1;32m   8861\u001b[0m \u001b[43m    \u001b[49m\u001b[43mlabel\u001b[49m\u001b[38;5;241;43m=\u001b[39;49m\u001b[43mlabel\u001b[49m\u001b[43m,\u001b[49m\n\u001b[1;32m   8862\u001b[0m \u001b[43m    \u001b[49m\u001b[43mclosed\u001b[49m\u001b[38;5;241;43m=\u001b[39;49m\u001b[43mclosed\u001b[49m\u001b[43m,\u001b[49m\n\u001b[1;32m   8863\u001b[0m \u001b[43m    \u001b[49m\u001b[43maxis\u001b[49m\u001b[38;5;241;43m=\u001b[39;49m\u001b[43maxis\u001b[49m\u001b[43m,\u001b[49m\n\u001b[1;32m   8864\u001b[0m \u001b[43m    \u001b[49m\u001b[43mkind\u001b[49m\u001b[38;5;241;43m=\u001b[39;49m\u001b[43mkind\u001b[49m\u001b[43m,\u001b[49m\n\u001b[1;32m   8865\u001b[0m \u001b[43m    \u001b[49m\u001b[43mloffset\u001b[49m\u001b[38;5;241;43m=\u001b[39;49m\u001b[43mloffset\u001b[49m\u001b[43m,\u001b[49m\n\u001b[1;32m   8866\u001b[0m \u001b[43m    \u001b[49m\u001b[43mconvention\u001b[49m\u001b[38;5;241;43m=\u001b[39;49m\u001b[43mconvention\u001b[49m\u001b[43m,\u001b[49m\n\u001b[1;32m   8867\u001b[0m \u001b[43m    \u001b[49m\u001b[43mbase\u001b[49m\u001b[38;5;241;43m=\u001b[39;49m\u001b[43mbase\u001b[49m\u001b[43m,\u001b[49m\n\u001b[1;32m   8868\u001b[0m \u001b[43m    \u001b[49m\u001b[43mkey\u001b[49m\u001b[38;5;241;43m=\u001b[39;49m\u001b[43mon\u001b[49m\u001b[43m,\u001b[49m\n\u001b[1;32m   8869\u001b[0m \u001b[43m    \u001b[49m\u001b[43mlevel\u001b[49m\u001b[38;5;241;43m=\u001b[39;49m\u001b[43mlevel\u001b[49m\u001b[43m,\u001b[49m\n\u001b[1;32m   8870\u001b[0m \u001b[43m    \u001b[49m\u001b[43morigin\u001b[49m\u001b[38;5;241;43m=\u001b[39;49m\u001b[43morigin\u001b[49m\u001b[43m,\u001b[49m\n\u001b[1;32m   8871\u001b[0m \u001b[43m    \u001b[49m\u001b[43moffset\u001b[49m\u001b[38;5;241;43m=\u001b[39;49m\u001b[43moffset\u001b[49m\u001b[43m,\u001b[49m\n\u001b[1;32m   8872\u001b[0m \u001b[43m    \u001b[49m\u001b[43mgroup_keys\u001b[49m\u001b[38;5;241;43m=\u001b[39;49m\u001b[43mgroup_keys\u001b[49m\u001b[43m,\u001b[49m\n\u001b[1;32m   8873\u001b[0m \u001b[43m\u001b[49m\u001b[43m)\u001b[49m\n",
      "File \u001b[0;32m/Library/Frameworks/Python.framework/Versions/3.10/lib/python3.10/site-packages/pandas/core/resample.py:1544\u001b[0m, in \u001b[0;36mget_resampler\u001b[0;34m(obj, kind, **kwds)\u001b[0m\n\u001b[1;32m   1540\u001b[0m \u001b[38;5;250m\u001b[39m\u001b[38;5;124;03m\"\"\"\u001b[39;00m\n\u001b[1;32m   1541\u001b[0m \u001b[38;5;124;03mCreate a TimeGrouper and return our resampler.\u001b[39;00m\n\u001b[1;32m   1542\u001b[0m \u001b[38;5;124;03m\"\"\"\u001b[39;00m\n\u001b[1;32m   1543\u001b[0m tg \u001b[38;5;241m=\u001b[39m TimeGrouper(\u001b[38;5;241m*\u001b[39m\u001b[38;5;241m*\u001b[39mkwds)\n\u001b[0;32m-> 1544\u001b[0m \u001b[38;5;28;01mreturn\u001b[39;00m \u001b[43mtg\u001b[49m\u001b[38;5;241;43m.\u001b[39;49m\u001b[43m_get_resampler\u001b[49m\u001b[43m(\u001b[49m\u001b[43mobj\u001b[49m\u001b[43m,\u001b[49m\u001b[43m \u001b[49m\u001b[43mkind\u001b[49m\u001b[38;5;241;43m=\u001b[39;49m\u001b[43mkind\u001b[49m\u001b[43m)\u001b[49m\n",
      "File \u001b[0;32m/Library/Frameworks/Python.framework/Versions/3.10/lib/python3.10/site-packages/pandas/core/resample.py:1725\u001b[0m, in \u001b[0;36mTimeGrouper._get_resampler\u001b[0;34m(self, obj, kind)\u001b[0m\n\u001b[1;32m   1720\u001b[0m \u001b[38;5;28;01melif\u001b[39;00m \u001b[38;5;28misinstance\u001b[39m(ax, TimedeltaIndex):\n\u001b[1;32m   1721\u001b[0m     \u001b[38;5;28;01mreturn\u001b[39;00m TimedeltaIndexResampler(\n\u001b[1;32m   1722\u001b[0m         obj, groupby\u001b[38;5;241m=\u001b[39m\u001b[38;5;28mself\u001b[39m, axis\u001b[38;5;241m=\u001b[39m\u001b[38;5;28mself\u001b[39m\u001b[38;5;241m.\u001b[39maxis, group_keys\u001b[38;5;241m=\u001b[39m\u001b[38;5;28mself\u001b[39m\u001b[38;5;241m.\u001b[39mgroup_keys\n\u001b[1;32m   1723\u001b[0m     )\n\u001b[0;32m-> 1725\u001b[0m \u001b[38;5;28;01mraise\u001b[39;00m \u001b[38;5;167;01mTypeError\u001b[39;00m(\n\u001b[1;32m   1726\u001b[0m     \u001b[38;5;124m\"\u001b[39m\u001b[38;5;124mOnly valid with DatetimeIndex, \u001b[39m\u001b[38;5;124m\"\u001b[39m\n\u001b[1;32m   1727\u001b[0m     \u001b[38;5;124m\"\u001b[39m\u001b[38;5;124mTimedeltaIndex or PeriodIndex, \u001b[39m\u001b[38;5;124m\"\u001b[39m\n\u001b[1;32m   1728\u001b[0m     \u001b[38;5;124mf\u001b[39m\u001b[38;5;124m\"\u001b[39m\u001b[38;5;124mbut got an instance of \u001b[39m\u001b[38;5;124m'\u001b[39m\u001b[38;5;132;01m{\u001b[39;00m\u001b[38;5;28mtype\u001b[39m(ax)\u001b[38;5;241m.\u001b[39m\u001b[38;5;18m__name__\u001b[39m\u001b[38;5;132;01m}\u001b[39;00m\u001b[38;5;124m'\u001b[39m\u001b[38;5;124m\"\u001b[39m\n\u001b[1;32m   1729\u001b[0m )\n",
      "\u001b[0;31mTypeError\u001b[0m: Only valid with DatetimeIndex, TimedeltaIndex or PeriodIndex, but got an instance of 'Float64Index'"
     ]
    }
   ],
   "source": [
    "df_l1 = dict_l1['btcusd_binanceus']\n",
    "df_trades = dict_trades['btcusd_binanceus']\n",
    "\n",
    "df_l1['mid_price'] = (df_l1.best_bid_price + df_l1.best_bid_price) / 2\n",
    "return_1s = (df_l1.mid_price.resample(\"1S\").last().values - df_l1.mid_price.resample(\"1S\").first().values) / df_l1.mid_price.resample(\"1S\").first().values"
   ]
  },
  {
   "cell_type": "markdown",
   "metadata": {},
   "source": [
    "Faire un plot de $S$ en échelle log-log pour chaque horizon $h$ et conclure. Les propriétés sont-elles similaires d'une bourse à une autre ?"
   ]
  },
  {
   "cell_type": "code",
   "execution_count": null,
   "metadata": {},
   "outputs": [],
   "source": [
    "abs_returns_1s = np.abs(return_1s)"
   ]
  },
  {
   "cell_type": "markdown",
   "metadata": {},
   "source": [
    "## 2. Calcul des probabilités d'exécution"
   ]
  },
  {
   "cell_type": "markdown",
   "metadata": {},
   "source": [
    "### Préliminaire. Calcul de la taille du tick"
   ]
  },
  {
   "cell_type": "markdown",
   "metadata": {},
   "source": [
    "Caluler la taille du tick de toutes les paires sur les trois marchés. On les stockera dans un dictionnaire pour pouvoir y accéder facilement."
   ]
  },
  {
   "cell_type": "code",
   "execution_count": 140,
   "metadata": {},
   "outputs": [
    {
     "data": {
      "text/plain": [
       "{'btcusd_binanceus': 0.01,\n",
       " 'ethusd_binanceus': 0.01,\n",
       " 'btcusd_bitstamp': 1.0,\n",
       " 'ethusd_bitstamp': 0.1,\n",
       " 'btcusd_kraken': 0.1,\n",
       " 'ethusd_kraken': 0.01}"
      ]
     },
     "execution_count": 140,
     "metadata": {},
     "output_type": "execute_result"
    }
   ],
   "source": [
    "dict_tick_size = {}\n",
    "\n",
    "for exchange in exchanges:\n",
    "    for coin in coins:\n",
    "\n",
    "        diff = dict_l1[f'{coin}_{exchange}'].best_bid_price.diff().to_numpy()\n",
    "        tick = np.around(np.min(diff[diff > 0]), 2)\n",
    "        dict_tick_size[f'{coin}_{exchange}'] = tick\n",
    "\n",
    "dict_tick_size"
   ]
  },
  {
   "cell_type": "markdown",
   "metadata": {},
   "source": [
    "### a. Etude de la sensibilité selon la distance de placement"
   ]
  },
  {
   "cell_type": "markdown",
   "metadata": {},
   "source": [
    "Considérons un agent qui place un ordre limite de taille infinitésimale à une distance $\\delta\\geq0$ ticks du BBO (Best Bid Offer). L'objectif de cette partie est d'étudier la probabilité $p(\\delta)$ que l'ordre soit exécuté sous un horizon fixé $h$. On fixera $h$ égal à 10 secondes dans cette partie seulement."
   ]
  },
  {
   "cell_type": "markdown",
   "metadata": {},
   "source": [
    "Dans un premier temps, développer une méthode de calcul de cette probabilité pour une distance $\\delta=0$ en réalisant un sampling des snapshots des carnets.\n",
    "\n",
    "Par exemple: si on se place au bid, on peut échantillonner un carnet toutes les secondes puis placer un ordre \"artificiel\" à un prix $P_{bid}$ situé à une distance $\\delta$ du best bid, puis considérer l'ordre comme exécuté à partir du moment où une transaction a eu lieu à un prix inférieur à $P_{bid}$. Enregistrer la valeur $X_i^\\delta=1$ si l'ordre est exécuté, la valeur $X_i^\\delta=0$ s'il ne l'est pas, puis calculer l'estimateur empirique sur l'ensemble des ordres:\n",
    "\n",
    "$$\\widehat{p(\\delta)}=\\frac{1}{N}\\sum_{i=1}^NX_i^\\delta.$$"
   ]
  },
  {
   "cell_type": "code",
   "execution_count": 146,
   "metadata": {},
   "outputs": [],
   "source": [
    "def compute_proba_fill(delta: float=0, N: int=int(1e3), h: float=10, duration: int=10, venue: str='binanceus', coin: str='btcusd') -> float:\n",
    "    somme = 0\n",
    "    for i in range(N):\n",
    "        df_l1 = dict_l1[coin + '_' + venue]\n",
    "        df_trades = dict_trades[coin + '_' + venue]\n",
    "        price = df_l1.iloc[duration*i].best_bid_price - delta\n",
    "        ts = df_l1.iloc[duration*i].name\n",
    "\n",
    "        if (df_trades[(df_trades.index > ts) & (df_trades.index <= ts + h)]['price'] < price).any():\n",
    "\n",
    "            somme += 1\n",
    "\n",
    "    return somme / N"
   ]
  },
  {
   "cell_type": "markdown",
   "metadata": {},
   "source": [
    "Dans un second temps, faire varier la distance $\\delta$ de placement pour obtenir une courbe de probabilité d'exécution. Avec quelle classe de fonction paramétrique modéliseriez-vous la fonction $p(\\delta)$ ?"
   ]
  },
  {
   "cell_type": "code",
   "execution_count": 147,
   "metadata": {},
   "outputs": [
    {
     "data": {
      "text/plain": [
       "0.614"
      ]
     },
     "execution_count": 147,
     "metadata": {},
     "output_type": "execute_result"
    }
   ],
   "source": [
    "compute_proba_fill()"
   ]
  },
  {
   "cell_type": "code",
   "execution_count": 148,
   "metadata": {},
   "outputs": [
    {
     "name": "stdout",
     "output_type": "stream",
     "text": [
      "0.614\n",
      "0.606\n",
      "0.603\n",
      "0.599\n",
      "0.597\n",
      "0.595\n",
      "0.594\n",
      "0.594\n",
      "0.592\n",
      "0.591\n"
     ]
    }
   ],
   "source": [
    "deltas = np.linspace(0, 10*dict_tick_size['btcusd_binanceus'], 10)\n",
    "\n",
    "for delta in deltas:\n",
    "\n",
    "    print(compute_proba_fill(delta=delta))"
   ]
  },
  {
   "cell_type": "markdown",
   "metadata": {},
   "source": [
    "error_bar"
   ]
  },
  {
   "cell_type": "markdown",
   "metadata": {},
   "source": [
    "### b. Etude de la sensibilité selon les états du marché"
   ]
  },
  {
   "cell_type": "markdown",
   "metadata": {},
   "source": [
    "Construire des variables qui caractérisent l'état du marché au moment du placement (par exemple, l'imbalance au BBO ou le spread bid-ask). Conditionner la probabilité par rapport à chaque état pour faire apparaître des relations. On se restreindra à une 1 dimension: créer des \"buckets\", par exemple \\[-1, -0.5, 0, 0.5, 1\\] pour l'imbalance. Commenter les résultats."
   ]
  },
  {
   "cell_type": "code",
   "execution_count": null,
   "metadata": {},
   "outputs": [],
   "source": []
  },
  {
   "cell_type": "markdown",
   "metadata": {},
   "source": [
    "## 3. Développement d'une stratégie de trading"
   ]
  },
  {
   "cell_type": "markdown",
   "metadata": {},
   "source": [
    "##### Cette partie est optionnelle et à réaliser à la maison. Elle sera notée sur 5 et apportera UNIQUEMENT des points bonus pour la note finale."
   ]
  },
  {
   "cell_type": "markdown",
   "metadata": {},
   "source": [
    "Développer une stratégie utilisant les deux exercices précédents sur l’un des deux sujets suivants et la tester :\n",
    "\n",
    "- _Exécution optimale_ : exécution stratégique via Almgren-Chriss puis tactique via les probabilités de premier temps de passage (découper la courbe d’exécution en sous-périodes de 5 secondes par exemple et utiliser un algorithme d’implementation shortfall : choisir entre poster un ordre limite et un ordre marché basé sur la probabilité d’exécution).\n",
    "\n",
    "\n",
    "- _Market making_ : utiliser une stratégie simple de type Avellaneda-Stoïkov mais y inclure un modèle de probabilité d'exécution et un signal de changement de régime de marché à définir (un jeu de paramètres par régime est souhaitable) ; focus sur la gestion du risque d’inventaire via une estimation précise des probabilités d’exécution."
   ]
  },
  {
   "cell_type": "markdown",
   "metadata": {},
   "source": [
    "#### Vous pourrez utiliser la littérature de votre choix et même en extraire des idées. Les citations bibliographiques sont bienvenues pour appuyer votre raisonnement. La performance/robustesse de votre stratégie devra être évaluée en utilisant des données Out-of-Sample! (Estimer les paramètres de votre modèle sur une période et tester la stratégie sur une autre période est obligatoire...)"
   ]
  },
  {
   "cell_type": "markdown",
   "metadata": {},
   "source": [
    "**Cette dernière partie est à rendre au plus tard le 12 mars à 20h.**"
   ]
  },
  {
   "cell_type": "markdown",
   "metadata": {},
   "source": [
    "t.fabre@sunzulab.com"
   ]
  }
 ],
 "metadata": {
  "kernelspec": {
   "display_name": "Python 3 (ipykernel)",
   "language": "python",
   "name": "python3"
  },
  "language_info": {
   "codemirror_mode": {
    "name": "ipython",
    "version": 3
   },
   "file_extension": ".py",
   "mimetype": "text/x-python",
   "name": "python",
   "nbconvert_exporter": "python",
   "pygments_lexer": "ipython3",
   "version": "3.10.0"
  }
 },
 "nbformat": 4,
 "nbformat_minor": 2
}
